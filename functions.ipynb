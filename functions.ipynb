{
 "cells": [
  {
   "cell_type": "markdown",
   "metadata": {},
   "source": [
    "# functions\n"
   ]
  },
  {
   "cell_type": "code",
   "execution_count": 2,
   "metadata": {},
   "outputs": [
    {
     "name": "stdout",
     "output_type": "stream",
     "text": [
      "name: 3\n",
      "age 42\n",
      "nationality pakistan\n",
      "name: ahmed\n",
      "age 25\n",
      "nationality pakistan\n",
      "name: khalid\n",
      "age 43\n",
      "nationality pakistan\n"
     ]
    }
   ],
   "source": [
    "def person_info(name, age, natinality):\n",
    "    print(\"name:\", name)\n",
    "    print(\"age\", age)\n",
    "    print(\"nationality\", natinality)\n",
    "    \n",
    "number = int(input(\"Amount: \"))\n",
    "for i in range(number):\n",
    "    name = input(\"Enter your name: \")\n",
    "    age = input(\"Enter your age: \")\n",
    "    nationality = input(\"Enter your nationality: \")\n",
    "    person_info(name, age, nationality)"
   ]
  },
  {
   "cell_type": "markdown",
   "metadata": {},
   "source": [
    "## using return operator\n"
   ]
  },
  {
   "cell_type": "code",
   "execution_count": 2,
   "metadata": {},
   "outputs": [
    {
     "name": "stdout",
     "output_type": "stream",
     "text": [
      "14\n"
     ]
    }
   ],
   "source": [
    "def total_points(game_score):\n",
    "    points = 0\n",
    "    while game_score != 0:\n",
    "        if game_score >= 5 and game_score<=10:\n",
    "            points += 2\n",
    "        if game_score >10 and game_score <=20:\n",
    "            points += 3\n",
    "        game_score = int(input(\"Enter your score: \"))\n",
    "    return points\n",
    "\n",
    "score = int(input(\"enter the score\"))\n",
    "game_points = total_points(score)\n",
    "# print(points)\n",
    "print(game_points)"
   ]
  },
  {
   "cell_type": "markdown",
   "metadata": {},
   "source": [
    "## store deal suggestion"
   ]
  },
  {
   "cell_type": "code",
   "execution_count": null,
   "metadata": {},
   "outputs": [
    {
     "name": "stdout",
     "output_type": "stream",
     "text": [
      "Store name:  Ali enterprises - Item Cost 42 Cheap! buy now\n",
      "what are you waiting for\n"
     ]
    }
   ],
   "source": [
    "def good_deal(cost):\n",
    "    if cost >= 50 and cost < 150:\n",
    "        response = \"this is a good deal!\"\n",
    "    elif cost > 150:\n",
    "        response = \"Over Priced\"\n",
    "    else:\n",
    "        response = \"Cheap! buy now\"\n",
    "    return response\n",
    "\n",
    "store = input(\"Enter Store name: \")\n",
    "cost = float(input(\"enter item cost: \"))\n",
    "res = good_deal(cost)\n",
    "print(\"Store name: \",store, \"-\",\"Item Cost:\", cost, res)\n",
    "if res == \"this is a good deal!\":\n",
    "    print(\"buy now before its too late\")\n",
    "elif res ==\"Over Priced\":\n",
    "    print(\"price is high lets wait it to come down!\")\n",
    "elif res == \"Cheap! buy now\":\n",
    "    print(\"what are you waiting for\")"
   ]
  },
  {
   "cell_type": "markdown",
   "metadata": {},
   "source": [
    "## markssheet"
   ]
  },
  {
   "cell_type": "code",
   "execution_count": null,
   "metadata": {},
   "outputs": [
    {
     "name": "stdout",
     "output_type": "stream",
     "text": [
      "total marks 55\n",
      "your marks 55 you barely passed\n"
     ]
    }
   ],
   "source": [
    "def pass_marks(marks):\n",
    "    print(\"total marks\", marks)\n",
    "    if marks > 0 and marks <= 50:\n",
    "        result = f\"your score {marks} is bellow passing! improve your score\"\n",
    "    elif marks > 50 and marks <= 70:\n",
    "        result = f\"your marks {marks} you barely passed\"\n",
    "    elif marks > 70 and marks <= 90:\n",
    "        result = f\"your marks {marks} you are one of the best in class\"\n",
    "    return result\n",
    "\n",
    "marks = int(input(\"Enter your marks: \"))\n",
    "\n",
    "res = pass_marks(marks)\n",
    "\n",
    "print(res)"
   ]
  },
  {
   "cell_type": "markdown",
   "metadata": {},
   "source": [
    "## Flight charges calculator"
   ]
  },
  {
   "cell_type": "code",
   "execution_count": null,
   "metadata": {},
   "outputs": [
    {
     "name": "stdout",
     "output_type": "stream",
     "text": [
      "your total fair is $ 145.8\n"
     ]
    }
   ],
   "source": [
    "def extra_flight_charges(base, upgrade, baggage):\n",
    "    price = base\n",
    "    if upgrade == \"yes\":\n",
    "        price += 99\n",
    "    if baggage == \"yes\":\n",
    "        price += 35\n",
    "        \n",
    "    tax = price + price*0.08\n",
    "    return tax \n",
    "\n",
    "base = float(input(\"Please Enter base fare of flight: \"))\n",
    "upgrade = input(\"please enter 'yes' if you want an upgrade or 'no' if you dont: \").lower()\n",
    "baggage = input(\"please enter 'yes' if you have baggage or 'no' if you dont: \").lower()\n",
    "\n",
    "grand_total = extra_flight_charges(base, upgrade, baggage)\n",
    "\n",
    "print(f\"your Grand Total fair is $ {grand_total}\")       "
   ]
  },
  {
   "cell_type": "markdown",
   "metadata": {},
   "source": [
    "## bank balance function"
   ]
  },
  {
   "cell_type": "code",
   "execution_count": null,
   "metadata": {},
   "outputs": [
    {
     "name": "stdout",
     "output_type": "stream",
     "text": [
      "welcome Ali your balance is 700 no need to worry!\n"
     ]
    }
   ],
   "source": [
    "def bank_balance(balance):\n",
    "    if balance >=500:\n",
    "        res = f\"your balance is {balance} no need to worry!\"\n",
    "    if balance < 500:\n",
    "        res = f\"your balance is {balance} need to deposit more into your account\"\n",
    "        \n",
    "    return res\n",
    "\n",
    "number_of_custommer = int(input(\"Enter number of customers in bank: \"))\n",
    "for i in range(number_of_custommer):\n",
    "    name = input(\"Enter your name: \").capitalize()\n",
    "    balance = int(input(\"Enter your bank balance: \"))\n",
    "    result = bank_balance(balance)\n",
    "    print(f\"welcome {name} {result}\")\n",
    "    \n",
    "\n",
    "\n",
    "\n",
    "\n"
   ]
  },
  {
   "cell_type": "markdown",
   "metadata": {},
   "source": [
    "## morgage function"
   ]
  },
  {
   "cell_type": "code",
   "execution_count": 33,
   "metadata": {},
   "outputs": [
    {
     "name": "stdout",
     "output_type": "stream",
     "text": [
      "600.0\n",
      "Instant Approval!\n"
     ]
    }
   ],
   "source": [
    "def mortgage(balance):\n",
    "    if balance >= 500:\n",
    "        print(\"Instant Approval!\")\n",
    "    elif balance >=200 and balance <=400:\n",
    "        print(\"You need an approval!\")\n",
    "    else:\n",
    "        print(\"Denied!\")\n",
    "\n",
    "deposit = float(input(\"Enter your Amount: \"))\n",
    "bal = 0\n",
    "while deposit != 0:\n",
    "    bal += deposit\n",
    "    deposit = float(input(\"enter another amount or 0 to end: \"))\n",
    "\n",
    "print(bal) \n",
    "mortgage(bal)"
   ]
  },
  {
   "cell_type": "markdown",
   "metadata": {},
   "source": [
    "## flight terminal to go through"
   ]
  },
  {
   "cell_type": "code",
   "execution_count": null,
   "metadata": {},
   "outputs": [
    {
     "name": "stdout",
     "output_type": "stream",
     "text": [
      "please proceed to terminal 3\n"
     ]
    }
   ],
   "source": [
    "def terminal_1():\n",
    "    print(\"please proceed to terminal 1\")\n",
    "def terminal_2():\n",
    "    print(\"please proceed to terminal 2\")\n",
    "def terminal_3():\n",
    "    print(\"please proceed to terminal 3\")\n",
    "\n",
    "def main_func(resul):\n",
    "    if resul == \"budget\":\n",
    "        terminal_1()\n",
    "    if resul == \"domestic\":\n",
    "        terminal_2()\n",
    "    if resul == \"business\":\n",
    "        terminal_3()\n",
    "    \n",
    "    \n",
    "    \n",
    "    \n",
    "resul = input(\"Please Enter your Flight budget/ domestic or business : \").lower()\n",
    "main_func(resul)"
   ]
  },
  {
   "cell_type": "markdown",
   "metadata": {},
   "source": [
    "## BMI Calculator"
   ]
  },
  {
   "cell_type": "code",
   "execution_count": null,
   "metadata": {},
   "outputs": [
    {
     "name": "stdout",
     "output_type": "stream",
     "text": [
      "normal weight\n",
      "Under weight\n"
     ]
    }
   ],
   "source": [
    "def bmi_calculator(weight, height):\n",
    "    return (weight / (height * height))\n",
    "\n",
    "people = int(input(\"Enter number of people: \"))\n",
    "\n",
    "for i in range(people):\n",
    "    name = input(\"Enter your name: \").capitalize()\n",
    "    weight = float(input(\"Enter your weight\"))\n",
    "    height = float(input(\"Enter your height\"))\n",
    "    rest = bmi_calculator(weight, height)\n",
    "    if rest < 18.5:\n",
    "        print(\"Under weight\")\n",
    "    elif rest >=18.5 and rest <=24.9:\n",
    "        print(\"normal weight\")\n",
    "    elif rest >=25 and rest <=29.9:\n",
    "        print(\"over weight\")\n",
    "    elif rest >=30:\n",
    "        print(\"obasity class 1\")"
   ]
  }
 ],
 "metadata": {
  "kernelspec": {
   "display_name": "Python 3",
   "language": "python",
   "name": "python3"
  },
  "language_info": {
   "codemirror_mode": {
    "name": "ipython",
    "version": 3
   },
   "file_extension": ".py",
   "mimetype": "text/x-python",
   "name": "python",
   "nbconvert_exporter": "python",
   "pygments_lexer": "ipython3",
   "version": "3.12.0"
  }
 },
 "nbformat": 4,
 "nbformat_minor": 2
}
